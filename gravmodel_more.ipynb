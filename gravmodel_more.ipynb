{
 "cells": [
  {
   "cell_type": "code",
   "execution_count": 2,
   "metadata": {},
   "outputs": [],
   "source": [
    "import matplotlib.pyplot as plt\n",
    "import numpy as np\n",
    "import pandas as pd\n",
    "import statsmodels.api as sm"
   ]
  },
  {
   "cell_type": "code",
   "execution_count": 3,
   "metadata": {},
   "outputs": [
    {
     "name": "stdout",
     "output_type": "stream",
     "text": [
      "['iso3_o', 'iso3_d', 'ln_trade', 'ln_dist', 'comlang', 'col_dep_ever', 'pop_o', 'pop_d', 'ln_gdp_o', 'ln_gdp_d', 'gdpcap_o', 'gdpcap_d', 'gatt_o', 'gatt_d', 'wto_o', 'wto_d', 'eu_o', 'eu_d', 'rta', 'entry_cost_o', 'entry_cost_d', 'entry_proc_o', 'entry_proc_d', 'entry_time_o', 'entry_time_d', 'entry_tp_o', 'entry_tp_d', 'AD_initations_o', 'AD_measures_o', 'AD_initations_d', 'AD_measures_d']\n"
     ]
    }
   ],
   "source": [
    "df = pd.read_excel(\"gravity2.xlsx\")\n",
    "\n",
    "columns = []\n",
    "for col in df.columns:\n",
    "    columns.append(col)\n",
    "print(columns)"
   ]
  },
  {
   "cell_type": "code",
   "execution_count": 4,
   "metadata": {},
   "outputs": [],
   "source": [
    "df1 = df.set_axis(['country_i', 'country_j', 'ln_import', 'ln_distance', 'common_language', 'colonial_dependency', 'population_i', 'population_j', 'ln_gdp_i', 'ln_gdp_j', 'gdp_percapita_i', \"gdp_percapita_j\", \"gatt_i\", 'gatt_j', 'wto_i', \"wto_j\", \"eu_i\", \"eu_j\", \"rta\", \"entry_cost_i\", \"entry_cost_j\", \"entry_procedures_i\", \"entry_procedures_j\", \"entry_time_i\", \"entry_time_j\", \"entry_tp_i\", \"entry_tp_j\", \"AD_initations_i\", \"AD_measures_i\", \"AD_initations_j\", \"AD_measures_j\"], axis=1, inplace=False)"
   ]
  },
  {
   "cell_type": "code",
   "execution_count": 5,
   "metadata": {},
   "outputs": [],
   "source": [
    "y = df1['ln_import'] # dependent variable\n",
    "x_columns = ['ln_distance', 'common_language', 'colonial_dependency', 'population_i', 'population_j', 'ln_gdp_i', 'ln_gdp_j', 'gdp_percapita_i', \"gdp_percapita_j\", \"gatt_i\", 'gatt_j', 'wto_i', \"wto_j\", \"eu_i\", \"eu_j\", \"rta\", \"entry_cost_i\", \"entry_cost_j\", \"entry_procedures_i\", \"entry_procedures_j\", \"entry_time_i\", \"entry_time_j\", \"entry_tp_i\", \"entry_tp_j\", \"AD_initations_i\", \"AD_measures_i\", \"AD_initations_j\", \"AD_measures_j\"] # independent variable"
   ]
  },
  {
   "cell_type": "code",
   "execution_count": 6,
   "metadata": {},
   "outputs": [
    {
     "name": "stdout",
     "output_type": "stream",
     "text": [
      "                            OLS Regression Results                            \n",
      "==============================================================================\n",
      "Dep. Variable:              ln_import   R-squared:                       0.852\n",
      "Model:                            OLS   Adj. R-squared:                  0.850\n",
      "Method:                 Least Squares   F-statistic:                     401.6\n",
      "Date:                Sun, 02 Jan 2022   Prob (F-statistic):               0.00\n",
      "Time:                        20:24:50   Log-Likelihood:                -2452.6\n",
      "No. Observations:                1845   AIC:                             4959.\n",
      "Df Residuals:                    1818   BIC:                             5108.\n",
      "Df Model:                          26                                         \n",
      "Covariance Type:            nonrobust                                         \n",
      "=======================================================================================\n",
      "                          coef    std err          t      P>|t|      [0.025      0.975]\n",
      "---------------------------------------------------------------------------------------\n",
      "const                 -22.6159      0.598    -37.841      0.000     -23.788     -21.444\n",
      "ln_distance            -1.0644      0.029    -36.141      0.000      -1.122      -1.007\n",
      "common_language         0.4982      0.088      5.675      0.000       0.326       0.670\n",
      "colonial_dependency     0.1982      0.147      1.352      0.176      -0.089       0.486\n",
      "population_i          2.23e-07   1.23e-07      1.817      0.069   -1.77e-08    4.64e-07\n",
      "population_j         5.277e-07   1.17e-07      4.522      0.000    2.99e-07    7.57e-07\n",
      "ln_gdp_i                0.8888      0.019     47.074      0.000       0.852       0.926\n",
      "ln_gdp_j                0.9693      0.020     48.340      0.000       0.930       1.009\n",
      "gdp_percapita_i        -0.0144      0.001    -10.303      0.000      -0.017      -0.012\n",
      "gdp_percapita_j        -0.0091      0.001     -6.598      0.000      -0.012      -0.006\n",
      "gatt_i                  0.3124      0.086      3.635      0.000       0.144       0.481\n",
      "gatt_j                  0.2348      0.084      2.789      0.005       0.070       0.400\n",
      "wto_i                   0.6479      0.167      3.885      0.000       0.321       0.975\n",
      "wto_j                   1.0394      0.158      6.569      0.000       0.729       1.350\n",
      "eu_i                   -0.2239      0.066     -3.400      0.001      -0.353      -0.095\n",
      "eu_j                    0.1302      0.070      1.856      0.064      -0.007       0.268\n",
      "rta                     0.3299      0.065      5.059      0.000       0.202       0.458\n",
      "entry_cost_i           -0.0134      0.005     -2.489      0.013      -0.024      -0.003\n",
      "entry_cost_j           -0.0216      0.007     -3.056      0.002      -0.035      -0.008\n",
      "entry_procedures_i     -0.0475      0.008     -6.331      0.000      -0.062      -0.033\n",
      "entry_procedures_j     -0.0147      0.008     -1.910      0.056      -0.030       0.000\n",
      "entry_time_i            0.0254      0.004      5.748      0.000       0.017       0.034\n",
      "entry_time_j            0.0106      0.004      2.364      0.018       0.002       0.019\n",
      "entry_tp_i             -0.0221      0.003     -6.758      0.000      -0.029      -0.016\n",
      "entry_tp_j             -0.0041      0.003     -1.201      0.230      -0.011       0.003\n",
      "AD_initations_i         0.0069      0.005      1.448      0.148      -0.002       0.016\n",
      "AD_measures_i          -0.0173      0.006     -2.950      0.003      -0.029      -0.006\n",
      "AD_initations_j        -0.0087      0.005     -1.901      0.058      -0.018       0.000\n",
      "AD_measures_j          -0.0218      0.006     -3.816      0.000      -0.033      -0.011\n",
      "==============================================================================\n",
      "Omnibus:                      142.407   Durbin-Watson:                   1.697\n",
      "Prob(Omnibus):                  0.000   Jarque-Bera (JB):              478.958\n",
      "Skew:                          -0.342   Prob(JB):                    9.90e-105\n",
      "Kurtosis:                       5.401   Cond. No.                     1.11e+16\n",
      "==============================================================================\n",
      "\n",
      "Notes:\n",
      "[1] Standard Errors assume that the covariance matrix of the errors is correctly specified.\n",
      "[2] The smallest eigenvalue is 1.47e-18. This might indicate that there are\n",
      "strong multicollinearity problems or that the design matrix is singular.\n"
     ]
    },
    {
     "name": "stderr",
     "output_type": "stream",
     "text": [
      "C:\\Users\\aleks\\anaconda3\\lib\\site-packages\\statsmodels\\tsa\\tsatools.py:142: FutureWarning: In a future version of pandas all arguments of concat except for the argument 'objs' will be keyword-only\n",
      "  x = pd.concat(x[::order], 1)\n"
     ]
    }
   ],
   "source": [
    "models = []\n",
    "def get_stats():\n",
    "    x = df1[x_columns]\n",
    "    x = sm.add_constant(x)\n",
    "    results = sm.OLS(y, x).fit()\n",
    "    models.append(results)\n",
    "    print(results.summary())\n",
    "    \n",
    "get_stats()"
   ]
  },
  {
   "cell_type": "code",
   "execution_count": 7,
   "metadata": {},
   "outputs": [
    {
     "name": "stdout",
     "output_type": "stream",
     "text": [
      "                            OLS Regression Results                            \n",
      "==============================================================================\n",
      "Dep. Variable:              ln_import   R-squared:                       0.852\n",
      "Model:                            OLS   Adj. R-squared:                  0.850\n",
      "Method:                 Least Squares   F-statistic:                     401.6\n",
      "Date:                Sun, 02 Jan 2022   Prob (F-statistic):               0.00\n",
      "Time:                        20:24:50   Log-Likelihood:                -2452.6\n",
      "No. Observations:                1845   AIC:                             4959.\n",
      "Df Residuals:                    1818   BIC:                             5108.\n",
      "Df Model:                          26                                         \n",
      "Covariance Type:            nonrobust                                         \n",
      "=======================================================================================\n",
      "                          coef    std err          t      P>|t|      [0.025      0.975]\n",
      "---------------------------------------------------------------------------------------\n",
      "const                 -22.6159      0.598    -37.841      0.000     -23.788     -21.444\n",
      "ln_distance            -1.0644      0.029    -36.141      0.000      -1.122      -1.007\n",
      "common_language         0.4982      0.088      5.675      0.000       0.326       0.670\n",
      "colonial_dependency     0.1982      0.147      1.352      0.176      -0.089       0.486\n",
      "population_i          2.23e-07   1.23e-07      1.817      0.069   -1.77e-08    4.64e-07\n",
      "population_j         5.277e-07   1.17e-07      4.522      0.000    2.99e-07    7.57e-07\n",
      "ln_gdp_i                0.8888      0.019     47.074      0.000       0.852       0.926\n",
      "ln_gdp_j                0.9693      0.020     48.340      0.000       0.930       1.009\n",
      "gdp_percapita_i        -0.0144      0.001    -10.303      0.000      -0.017      -0.012\n",
      "gdp_percapita_j        -0.0091      0.001     -6.598      0.000      -0.012      -0.006\n",
      "gatt_i                  0.3124      0.086      3.635      0.000       0.144       0.481\n",
      "gatt_j                  0.2348      0.084      2.789      0.005       0.070       0.400\n",
      "wto_i                   0.6479      0.167      3.885      0.000       0.321       0.975\n",
      "wto_j                   1.0394      0.158      6.569      0.000       0.729       1.350\n",
      "eu_i                   -0.2239      0.066     -3.400      0.001      -0.353      -0.095\n",
      "eu_j                    0.1302      0.070      1.856      0.064      -0.007       0.268\n",
      "rta                     0.3299      0.065      5.059      0.000       0.202       0.458\n",
      "entry_cost_i           -0.0134      0.005     -2.489      0.013      -0.024      -0.003\n",
      "entry_cost_j           -0.0216      0.007     -3.056      0.002      -0.035      -0.008\n",
      "entry_procedures_i     -0.0475      0.008     -6.331      0.000      -0.062      -0.033\n",
      "entry_procedures_j     -0.0188      0.011     -1.705      0.088      -0.040       0.003\n",
      "entry_time_i            0.0254      0.004      5.748      0.000       0.017       0.034\n",
      "entry_time_j            0.0065      0.002      3.183      0.001       0.003       0.011\n",
      "entry_tp_i             -0.0221      0.003     -6.758      0.000      -0.029      -0.016\n",
      "AD_initations_i         0.0069      0.005      1.448      0.148      -0.002       0.016\n",
      "AD_measures_i          -0.0173      0.006     -2.950      0.003      -0.029      -0.006\n",
      "AD_initations_j        -0.0087      0.005     -1.901      0.058      -0.018       0.000\n",
      "AD_measures_j          -0.0218      0.006     -3.816      0.000      -0.033      -0.011\n",
      "==============================================================================\n",
      "Omnibus:                      142.407   Durbin-Watson:                   1.697\n",
      "Prob(Omnibus):                  0.000   Jarque-Bera (JB):              478.958\n",
      "Skew:                          -0.342   Prob(JB):                    9.90e-105\n",
      "Kurtosis:                       5.401   Cond. No.                     1.11e+16\n",
      "==============================================================================\n",
      "\n",
      "Notes:\n",
      "[1] Standard Errors assume that the covariance matrix of the errors is correctly specified.\n",
      "[2] The smallest eigenvalue is 1.47e-18. This might indicate that there are\n",
      "strong multicollinearity problems or that the design matrix is singular.\n"
     ]
    },
    {
     "name": "stderr",
     "output_type": "stream",
     "text": [
      "C:\\Users\\aleks\\anaconda3\\lib\\site-packages\\statsmodels\\tsa\\tsatools.py:142: FutureWarning: In a future version of pandas all arguments of concat except for the argument 'objs' will be keyword-only\n",
      "  x = pd.concat(x[::order], 1)\n"
     ]
    }
   ],
   "source": [
    "#delete entry_tp_j variable, because of her statistical insignificance\n",
    "\n",
    "x_columns.remove(\"entry_tp_j\")\n",
    "get_stats()"
   ]
  },
  {
   "cell_type": "code",
   "execution_count": 8,
   "metadata": {},
   "outputs": [
    {
     "name": "stdout",
     "output_type": "stream",
     "text": [
      "                            OLS Regression Results                            \n",
      "==============================================================================\n",
      "Dep. Variable:              ln_import   R-squared:                       0.852\n",
      "Model:                            OLS   Adj. R-squared:                  0.850\n",
      "Method:                 Least Squares   F-statistic:                     417.4\n",
      "Date:                Sun, 02 Jan 2022   Prob (F-statistic):               0.00\n",
      "Time:                        20:24:50   Log-Likelihood:                -2453.5\n",
      "No. Observations:                1845   AIC:                             4959.\n",
      "Df Residuals:                    1819   BIC:                             5102.\n",
      "Df Model:                          25                                         \n",
      "Covariance Type:            nonrobust                                         \n",
      "======================================================================================\n",
      "                         coef    std err          t      P>|t|      [0.025      0.975]\n",
      "--------------------------------------------------------------------------------------\n",
      "const                -22.6600      0.597    -37.962      0.000     -23.831     -21.489\n",
      "ln_distance           -1.0669      0.029    -36.285      0.000      -1.125      -1.009\n",
      "common_language        0.5205      0.086      6.034      0.000       0.351       0.690\n",
      "population_i        2.162e-07   1.23e-07      1.763      0.078   -2.43e-08    4.57e-07\n",
      "population_j        5.215e-07   1.17e-07      4.471      0.000    2.93e-07     7.5e-07\n",
      "ln_gdp_i               0.8903      0.019     47.215      0.000       0.853       0.927\n",
      "ln_gdp_j               0.9709      0.020     48.490      0.000       0.932       1.010\n",
      "gdp_percapita_i       -0.0145      0.001    -10.357      0.000      -0.017      -0.012\n",
      "gdp_percapita_j       -0.0092      0.001     -6.644      0.000      -0.012      -0.006\n",
      "gatt_i                 0.3136      0.086      3.648      0.000       0.145       0.482\n",
      "gatt_j                 0.2355      0.084      2.797      0.005       0.070       0.401\n",
      "wto_i                  0.6501      0.167      3.897      0.000       0.323       0.977\n",
      "wto_j                  1.0403      0.158      6.574      0.000       0.730       1.351\n",
      "eu_i                  -0.2212      0.066     -3.359      0.001      -0.350      -0.092\n",
      "eu_j                   0.1343      0.070      1.915      0.056      -0.003       0.272\n",
      "rta                    0.3267      0.065      5.013      0.000       0.199       0.455\n",
      "entry_cost_i          -0.0135      0.005     -2.521      0.012      -0.024      -0.003\n",
      "entry_cost_j          -0.0217      0.007     -3.075      0.002      -0.036      -0.008\n",
      "entry_procedures_i    -0.0473      0.008     -6.299      0.000      -0.062      -0.033\n",
      "entry_procedures_j    -0.0184      0.011     -1.669      0.095      -0.040       0.003\n",
      "entry_time_i           0.0253      0.004      5.723      0.000       0.017       0.034\n",
      "entry_time_j           0.0066      0.002      3.206      0.001       0.003       0.011\n",
      "entry_tp_i            -0.0220      0.003     -6.717      0.000      -0.028      -0.016\n",
      "AD_initations_i        0.0071      0.005      1.491      0.136      -0.002       0.016\n",
      "AD_measures_i         -0.0174      0.006     -2.977      0.003      -0.029      -0.006\n",
      "AD_initations_j       -0.0085      0.005     -1.863      0.063      -0.017       0.000\n",
      "AD_measures_j         -0.0219      0.006     -3.842      0.000      -0.033      -0.011\n",
      "==============================================================================\n",
      "Omnibus:                      142.228   Durbin-Watson:                   1.698\n",
      "Prob(Omnibus):                  0.000   Jarque-Bera (JB):              474.504\n",
      "Skew:                          -0.344   Prob(JB):                    9.18e-104\n",
      "Kurtosis:                       5.387   Cond. No.                     1.11e+16\n",
      "==============================================================================\n",
      "\n",
      "Notes:\n",
      "[1] Standard Errors assume that the covariance matrix of the errors is correctly specified.\n",
      "[2] The smallest eigenvalue is 1.47e-18. This might indicate that there are\n",
      "strong multicollinearity problems or that the design matrix is singular.\n"
     ]
    },
    {
     "name": "stderr",
     "output_type": "stream",
     "text": [
      "C:\\Users\\aleks\\anaconda3\\lib\\site-packages\\statsmodels\\tsa\\tsatools.py:142: FutureWarning: In a future version of pandas all arguments of concat except for the argument 'objs' will be keyword-only\n",
      "  x = pd.concat(x[::order], 1)\n"
     ]
    }
   ],
   "source": [
    "#delete colonial_dependency variable, because of her statistical insignificance\n",
    "\n",
    "x_columns.remove(\"colonial_dependency\")\n",
    "get_stats()"
   ]
  },
  {
   "cell_type": "code",
   "execution_count": 9,
   "metadata": {},
   "outputs": [
    {
     "name": "stdout",
     "output_type": "stream",
     "text": [
      "                            OLS Regression Results                            \n",
      "==============================================================================\n",
      "Dep. Variable:              ln_import   R-squared:                       0.851\n",
      "Model:                            OLS   Adj. R-squared:                  0.849\n",
      "Method:                 Least Squares   F-statistic:                     434.4\n",
      "Date:                Sun, 02 Jan 2022   Prob (F-statistic):               0.00\n",
      "Time:                        20:24:50   Log-Likelihood:                -2454.6\n",
      "No. Observations:                1845   AIC:                             4959.\n",
      "Df Residuals:                    1820   BIC:                             5097.\n",
      "Df Model:                          24                                         \n",
      "Covariance Type:            nonrobust                                         \n",
      "======================================================================================\n",
      "                         coef    std err          t      P>|t|      [0.025      0.975]\n",
      "--------------------------------------------------------------------------------------\n",
      "const                -22.7867      0.591    -38.554      0.000     -23.946     -21.627\n",
      "ln_distance           -1.0673      0.029    -36.289      0.000      -1.125      -1.010\n",
      "common_language        0.5171      0.086      5.995      0.000       0.348       0.686\n",
      "population_i        2.291e-07   1.22e-07      1.872      0.061   -1.09e-08    4.69e-07\n",
      "population_j         5.22e-07   1.17e-07      4.474      0.000    2.93e-07    7.51e-07\n",
      "ln_gdp_i               0.8971      0.018     49.020      0.000       0.861       0.933\n",
      "ln_gdp_j               0.9710      0.020     48.479      0.000       0.932       1.010\n",
      "gdp_percapita_i       -0.0141      0.001    -10.246      0.000      -0.017      -0.011\n",
      "gdp_percapita_j       -0.0092      0.001     -6.634      0.000      -0.012      -0.006\n",
      "gatt_i                 0.2984      0.085      3.495      0.000       0.131       0.466\n",
      "gatt_j                 0.2357      0.084      2.799      0.005       0.071       0.401\n",
      "wto_i                  0.6509      0.167      3.901      0.000       0.324       0.978\n",
      "wto_j                  1.0410      0.158      6.576      0.000       0.731       1.352\n",
      "eu_i                  -0.2041      0.065     -3.147      0.002      -0.331      -0.077\n",
      "eu_j                   0.1342      0.070      1.913      0.056      -0.003       0.272\n",
      "rta                    0.3261      0.065      5.002      0.000       0.198       0.454\n",
      "entry_cost_i          -0.0128      0.005     -2.394      0.017      -0.023      -0.002\n",
      "entry_cost_j          -0.0217      0.007     -3.072      0.002      -0.036      -0.008\n",
      "entry_procedures_i    -0.0464      0.007     -6.197      0.000      -0.061      -0.032\n",
      "entry_procedures_j    -0.0183      0.011     -1.666      0.096      -0.040       0.003\n",
      "entry_time_i           0.0246      0.004      5.594      0.000       0.016       0.033\n",
      "entry_time_j           0.0066      0.002      3.199      0.001       0.003       0.011\n",
      "entry_tp_i            -0.0218      0.003     -6.662      0.000      -0.028      -0.015\n",
      "AD_measures_i         -0.0117      0.004     -2.646      0.008      -0.020      -0.003\n",
      "AD_initations_j       -0.0087      0.005     -1.899      0.058      -0.018       0.000\n",
      "AD_measures_j         -0.0218      0.006     -3.819      0.000      -0.033      -0.011\n",
      "==============================================================================\n",
      "Omnibus:                      142.627   Durbin-Watson:                   1.695\n",
      "Prob(Omnibus):                  0.000   Jarque-Bera (JB):              475.134\n",
      "Skew:                          -0.346   Prob(JB):                    6.70e-104\n",
      "Kurtosis:                       5.388   Cond. No.                     1.11e+16\n",
      "==============================================================================\n",
      "\n",
      "Notes:\n",
      "[1] Standard Errors assume that the covariance matrix of the errors is correctly specified.\n",
      "[2] The smallest eigenvalue is 1.47e-18. This might indicate that there are\n",
      "strong multicollinearity problems or that the design matrix is singular.\n"
     ]
    },
    {
     "name": "stderr",
     "output_type": "stream",
     "text": [
      "C:\\Users\\aleks\\anaconda3\\lib\\site-packages\\statsmodels\\tsa\\tsatools.py:142: FutureWarning: In a future version of pandas all arguments of concat except for the argument 'objs' will be keyword-only\n",
      "  x = pd.concat(x[::order], 1)\n"
     ]
    }
   ],
   "source": [
    "#delete AD_initations_i variable, because of her statistical insignificance\n",
    "\n",
    "x_columns.remove(\"AD_initations_i\")\n",
    "get_stats()\n",
    "\n",
    "#R-squared parameter drops down after this operation"
   ]
  },
  {
   "cell_type": "code",
   "execution_count": 10,
   "metadata": {},
   "outputs": [
    {
     "name": "stderr",
     "output_type": "stream",
     "text": [
      "C:\\Users\\aleks\\anaconda3\\lib\\site-packages\\statsmodels\\tsa\\tsatools.py:142: FutureWarning: In a future version of pandas all arguments of concat except for the argument 'objs' will be keyword-only\n",
      "  x = pd.concat(x[::order], 1)\n"
     ]
    },
    {
     "name": "stdout",
     "output_type": "stream",
     "text": [
      "                            OLS Regression Results                            \n",
      "==============================================================================\n",
      "Dep. Variable:              ln_import   R-squared:                       0.851\n",
      "Model:                            OLS   Adj. R-squared:                  0.849\n",
      "Method:                 Least Squares   F-statistic:                     452.5\n",
      "Date:                Sun, 02 Jan 2022   Prob (F-statistic):               0.00\n",
      "Time:                        20:24:50   Log-Likelihood:                -2456.4\n",
      "No. Observations:                1845   AIC:                             4961.\n",
      "Df Residuals:                    1821   BIC:                             5093.\n",
      "Df Model:                          23                                         \n",
      "Covariance Type:            nonrobust                                         \n",
      "======================================================================================\n",
      "                         coef    std err          t      P>|t|      [0.025      0.975]\n",
      "--------------------------------------------------------------------------------------\n",
      "const                -23.1196      0.564    -40.989      0.000     -24.226     -22.013\n",
      "ln_distance           -1.0642      0.029    -36.216      0.000      -1.122      -1.007\n",
      "common_language        0.5236      0.086      6.071      0.000       0.354       0.693\n",
      "population_j        5.161e-07   1.17e-07      4.422      0.000    2.87e-07    7.45e-07\n",
      "ln_gdp_i               0.9124      0.016     55.669      0.000       0.880       0.944\n",
      "ln_gdp_j               0.9716      0.020     48.482      0.000       0.932       1.011\n",
      "gdp_percapita_i       -0.0142      0.001    -10.283      0.000      -0.017      -0.011\n",
      "gdp_percapita_j       -0.0092      0.001     -6.628      0.000      -0.012      -0.006\n",
      "gatt_i                 0.2381      0.079      3.009      0.003       0.083       0.393\n",
      "gatt_j                 0.2320      0.084      2.754      0.006       0.067       0.397\n",
      "wto_i                  0.6620      0.167      3.967      0.000       0.335       0.989\n",
      "wto_j                  1.0380      0.158      6.553      0.000       0.727       1.349\n",
      "eu_i                  -0.2191      0.064     -3.401      0.001      -0.345      -0.093\n",
      "eu_j                   0.1372      0.070      1.955      0.051      -0.000       0.275\n",
      "rta                    0.3274      0.065      5.019      0.000       0.199       0.455\n",
      "entry_cost_i          -0.0127      0.005     -2.375      0.018      -0.023      -0.002\n",
      "entry_cost_j          -0.0216      0.007     -3.057      0.002      -0.036      -0.008\n",
      "entry_procedures_i    -0.0418      0.007     -5.906      0.000      -0.056      -0.028\n",
      "entry_procedures_j    -0.0182      0.011     -1.655      0.098      -0.040       0.003\n",
      "entry_time_i           0.0221      0.004      5.270      0.000       0.014       0.030\n",
      "entry_time_j           0.0066      0.002      3.189      0.001       0.003       0.011\n",
      "entry_tp_i            -0.0197      0.003     -6.400      0.000      -0.026      -0.014\n",
      "AD_measures_i         -0.0081      0.004     -2.027      0.043      -0.016      -0.000\n",
      "AD_initations_j       -0.0087      0.005     -1.897      0.058      -0.018       0.000\n",
      "AD_measures_j         -0.0217      0.006     -3.805      0.000      -0.033      -0.011\n",
      "==============================================================================\n",
      "Omnibus:                      144.699   Durbin-Watson:                   1.692\n",
      "Prob(Omnibus):                  0.000   Jarque-Bera (JB):              490.267\n",
      "Skew:                          -0.347   Prob(JB):                    3.47e-107\n",
      "Kurtosis:                       5.428   Cond. No.                     1.24e+19\n",
      "==============================================================================\n",
      "\n",
      "Notes:\n",
      "[1] Standard Errors assume that the covariance matrix of the errors is correctly specified.\n",
      "[2] The smallest eigenvalue is 1.11e-24. This might indicate that there are\n",
      "strong multicollinearity problems or that the design matrix is singular.\n"
     ]
    }
   ],
   "source": [
    "#delete population_i variable, because of her statistical insignificance\n",
    "\n",
    "x_columns.remove(\"population_i\")\n",
    "get_stats()\n"
   ]
  },
  {
   "cell_type": "code",
   "execution_count": 11,
   "metadata": {},
   "outputs": [
    {
     "name": "stdout",
     "output_type": "stream",
     "text": [
      "                            OLS Regression Results                            \n",
      "==============================================================================\n",
      "Dep. Variable:              ln_import   R-squared:                       0.851\n",
      "Model:                            OLS   Adj. R-squared:                  0.849\n",
      "Method:                 Least Squares   F-statistic:                     472.3\n",
      "Date:                Sun, 02 Jan 2022   Prob (F-statistic):               0.00\n",
      "Time:                        20:24:50   Log-Likelihood:                -2458.2\n",
      "No. Observations:                1845   AIC:                             4962.\n",
      "Df Residuals:                    1822   BIC:                             5089.\n",
      "Df Model:                          22                                         \n",
      "Covariance Type:            nonrobust                                         \n",
      "======================================================================================\n",
      "                         coef    std err          t      P>|t|      [0.025      0.975]\n",
      "--------------------------------------------------------------------------------------\n",
      "const                -22.9144      0.554    -41.364      0.000     -24.001     -21.828\n",
      "ln_distance           -1.0654      0.029    -36.238      0.000      -1.123      -1.008\n",
      "common_language        0.5288      0.086      6.130      0.000       0.360       0.698\n",
      "population_j        5.046e-07   1.17e-07      4.326      0.000    2.76e-07    7.33e-07\n",
      "ln_gdp_i               0.9124      0.016     55.629      0.000       0.880       0.945\n",
      "ln_gdp_j               0.9607      0.019     50.009      0.000       0.923       0.998\n",
      "gdp_percapita_i       -0.0142      0.001    -10.281      0.000      -0.017      -0.011\n",
      "gdp_percapita_j       -0.0096      0.001     -7.028      0.000      -0.012      -0.007\n",
      "gatt_i                 0.2383      0.079      3.010      0.003       0.083       0.394\n",
      "gatt_j                 0.2576      0.083      3.094      0.002       0.094       0.421\n",
      "wto_i                  0.6635      0.167      3.973      0.000       0.336       0.991\n",
      "wto_j                  1.0417      0.159      6.572      0.000       0.731       1.353\n",
      "eu_i                  -0.2189      0.064     -3.395      0.001      -0.345      -0.092\n",
      "eu_j                   0.1136      0.069      1.644      0.100      -0.022       0.249\n",
      "rta                    0.3245      0.065      4.972      0.000       0.197       0.453\n",
      "entry_cost_i          -0.0127      0.005     -2.362      0.018      -0.023      -0.002\n",
      "entry_cost_j          -0.0239      0.007     -3.427      0.001      -0.038      -0.010\n",
      "entry_procedures_i    -0.0419      0.007     -5.911      0.000      -0.056      -0.028\n",
      "entry_procedures_j    -0.0184      0.011     -1.669      0.095      -0.040       0.003\n",
      "entry_time_i           0.0221      0.004      5.275      0.000       0.014       0.030\n",
      "entry_time_j           0.0072      0.002      3.537      0.000       0.003       0.011\n",
      "entry_tp_i            -0.0198      0.003     -6.404      0.000      -0.026      -0.014\n",
      "AD_measures_i         -0.0081      0.004     -2.033      0.042      -0.016      -0.000\n",
      "AD_measures_j         -0.0286      0.004     -6.494      0.000      -0.037      -0.020\n",
      "==============================================================================\n",
      "Omnibus:                      144.926   Durbin-Watson:                   1.693\n",
      "Prob(Omnibus):                  0.000   Jarque-Bera (JB):              493.627\n",
      "Skew:                          -0.346   Prob(JB):                    6.46e-108\n",
      "Kurtosis:                       5.438   Cond. No.                     1.23e+19\n",
      "==============================================================================\n",
      "\n",
      "Notes:\n",
      "[1] Standard Errors assume that the covariance matrix of the errors is correctly specified.\n",
      "[2] The smallest eigenvalue is 1.13e-24. This might indicate that there are\n",
      "strong multicollinearity problems or that the design matrix is singular.\n"
     ]
    },
    {
     "name": "stderr",
     "output_type": "stream",
     "text": [
      "C:\\Users\\aleks\\anaconda3\\lib\\site-packages\\statsmodels\\tsa\\tsatools.py:142: FutureWarning: In a future version of pandas all arguments of concat except for the argument 'objs' will be keyword-only\n",
      "  x = pd.concat(x[::order], 1)\n"
     ]
    }
   ],
   "source": [
    "#delete AD_initations_j variable, because of her statistical insignificance\n",
    "\n",
    "x_columns.remove(\"AD_initations_j\")\n",
    "get_stats()"
   ]
  },
  {
   "cell_type": "code",
   "execution_count": 12,
   "metadata": {},
   "outputs": [
    {
     "name": "stdout",
     "output_type": "stream",
     "text": [
      "                            OLS Regression Results                            \n",
      "==============================================================================\n",
      "Dep. Variable:              ln_import   R-squared:                       0.851\n",
      "Model:                            OLS   Adj. R-squared:                  0.849\n",
      "Method:                 Least Squares   F-statistic:                     494.2\n",
      "Date:                Sun, 02 Jan 2022   Prob (F-statistic):               0.00\n",
      "Time:                        20:24:50   Log-Likelihood:                -2459.6\n",
      "No. Observations:                1845   AIC:                             4963.\n",
      "Df Residuals:                    1823   BIC:                             5085.\n",
      "Df Model:                          21                                         \n",
      "Covariance Type:            nonrobust                                         \n",
      "======================================================================================\n",
      "                         coef    std err          t      P>|t|      [0.025      0.975]\n",
      "--------------------------------------------------------------------------------------\n",
      "const                -22.5829      0.516    -43.746      0.000     -23.595     -21.570\n",
      "ln_distance           -1.0796      0.028    -38.376      0.000      -1.135      -1.024\n",
      "common_language        0.5059      0.085      5.940      0.000       0.339       0.673\n",
      "population_j        4.817e-07   1.16e-07      4.158      0.000    2.54e-07    7.09e-07\n",
      "ln_gdp_i               0.9122      0.016     55.593      0.000       0.880       0.944\n",
      "ln_gdp_j               0.9486      0.018     53.442      0.000       0.914       0.983\n",
      "gdp_percapita_i       -0.0143      0.001    -10.388      0.000      -0.017      -0.012\n",
      "gdp_percapita_j       -0.0096      0.001     -7.057      0.000      -0.012      -0.007\n",
      "gatt_i                 0.2468      0.079      3.122      0.002       0.092       0.402\n",
      "gatt_j                 0.2794      0.082      3.400      0.001       0.118       0.441\n",
      "wto_i                  0.6728      0.167      4.029      0.000       0.345       1.000\n",
      "wto_j                  1.1090      0.153      7.238      0.000       0.808       1.409\n",
      "eu_i                  -0.2475      0.062     -3.987      0.000      -0.369      -0.126\n",
      "rta                    0.3491      0.064      5.491      0.000       0.224       0.474\n",
      "entry_cost_i          -0.0133      0.005     -2.479      0.013      -0.024      -0.003\n",
      "entry_cost_j          -0.0262      0.007     -3.827      0.000      -0.040      -0.013\n",
      "entry_procedures_i    -0.0415      0.007     -5.862      0.000      -0.055      -0.028\n",
      "entry_procedures_j    -0.0177      0.011     -1.603      0.109      -0.039       0.004\n",
      "entry_time_i           0.0219      0.004      5.234      0.000       0.014       0.030\n",
      "entry_time_j           0.0064      0.002      3.253      0.001       0.003       0.010\n",
      "entry_tp_i            -0.0196      0.003     -6.348      0.000      -0.026      -0.014\n",
      "AD_measures_i         -0.0078      0.004     -1.964      0.050      -0.016   -1.11e-05\n",
      "AD_measures_j         -0.0264      0.004     -6.287      0.000      -0.035      -0.018\n",
      "==============================================================================\n",
      "Omnibus:                      144.316   Durbin-Watson:                   1.697\n",
      "Prob(Omnibus):                  0.000   Jarque-Bera (JB):              478.486\n",
      "Skew:                          -0.354   Prob(JB):                    1.25e-104\n",
      "Kurtosis:                       5.392   Cond. No.                     2.36e+19\n",
      "==============================================================================\n",
      "\n",
      "Notes:\n",
      "[1] Standard Errors assume that the covariance matrix of the errors is correctly specified.\n",
      "[2] The smallest eigenvalue is 3.08e-25. This might indicate that there are\n",
      "strong multicollinearity problems or that the design matrix is singular.\n"
     ]
    },
    {
     "name": "stderr",
     "output_type": "stream",
     "text": [
      "C:\\Users\\aleks\\anaconda3\\lib\\site-packages\\statsmodels\\tsa\\tsatools.py:142: FutureWarning: In a future version of pandas all arguments of concat except for the argument 'objs' will be keyword-only\n",
      "  x = pd.concat(x[::order], 1)\n"
     ]
    }
   ],
   "source": [
    "#delete eu_j variable, because of her statistical insignificance\n",
    "\n",
    "x_columns.remove(\"eu_j\")\n",
    "get_stats()"
   ]
  },
  {
   "cell_type": "code",
   "execution_count": 13,
   "metadata": {},
   "outputs": [
    {
     "name": "stdout",
     "output_type": "stream",
     "text": [
      "                            OLS Regression Results                            \n",
      "==============================================================================\n",
      "Dep. Variable:              ln_import   R-squared:                       0.850\n",
      "Model:                            OLS   Adj. R-squared:                  0.849\n",
      "Method:                 Least Squares   F-statistic:                     518.3\n",
      "Date:                Sun, 02 Jan 2022   Prob (F-statistic):               0.00\n",
      "Time:                        20:24:50   Log-Likelihood:                -2460.9\n",
      "No. Observations:                1845   AIC:                             4964.\n",
      "Df Residuals:                    1824   BIC:                             5080.\n",
      "Df Model:                          20                                         \n",
      "Covariance Type:            nonrobust                                         \n",
      "======================================================================================\n",
      "                         coef    std err          t      P>|t|      [0.025      0.975]\n",
      "--------------------------------------------------------------------------------------\n",
      "const                -22.6104      0.516    -43.804      0.000     -23.623     -21.598\n",
      "ln_distance           -1.0799      0.028    -38.371      0.000      -1.135      -1.025\n",
      "common_language        0.5046      0.085      5.922      0.000       0.338       0.672\n",
      "population_j        4.297e-07   1.11e-07      3.861      0.000    2.11e-07    6.48e-07\n",
      "ln_gdp_i               0.9121      0.016     55.566      0.000       0.880       0.944\n",
      "ln_gdp_j               0.9460      0.018     53.494      0.000       0.911       0.981\n",
      "gdp_percapita_i       -0.0143      0.001    -10.384      0.000      -0.017      -0.012\n",
      "gdp_percapita_j       -0.0095      0.001     -6.995      0.000      -0.012      -0.007\n",
      "gatt_i                 0.2472      0.079      3.125      0.002       0.092       0.402\n",
      "gatt_j                 0.2802      0.082      3.408      0.001       0.119       0.441\n",
      "wto_i                  0.6729      0.167      4.028      0.000       0.345       1.001\n",
      "wto_j                  1.1173      0.153      7.294      0.000       0.817       1.418\n",
      "eu_i                  -0.2484      0.062     -3.999      0.000      -0.370      -0.127\n",
      "rta                    0.3504      0.064      5.510      0.000       0.226       0.475\n",
      "entry_cost_i          -0.0133      0.005     -2.495      0.013      -0.024      -0.003\n",
      "entry_cost_j          -0.0318      0.006     -5.391      0.000      -0.043      -0.020\n",
      "entry_procedures_i    -0.0413      0.007     -5.826      0.000      -0.055      -0.027\n",
      "entry_time_i           0.0218      0.004      5.199      0.000       0.014       0.030\n",
      "entry_time_j           0.0049      0.002      2.829      0.005       0.002       0.008\n",
      "entry_tp_i            -0.0195      0.003     -6.312      0.000      -0.026      -0.013\n",
      "AD_measures_i         -0.0078      0.004     -1.962      0.050      -0.016   -4.23e-06\n",
      "AD_measures_j         -0.0254      0.004     -6.110      0.000      -0.034      -0.017\n",
      "==============================================================================\n",
      "Omnibus:                      142.269   Durbin-Watson:                   1.701\n",
      "Prob(Omnibus):                  0.000   Jarque-Bera (JB):              464.230\n",
      "Skew:                          -0.353   Prob(JB):                    1.56e-101\n",
      "Kurtosis:                       5.354   Cond. No.                     2.98e+19\n",
      "==============================================================================\n",
      "\n",
      "Notes:\n",
      "[1] Standard Errors assume that the covariance matrix of the errors is correctly specified.\n",
      "[2] The smallest eigenvalue is 1.92e-25. This might indicate that there are\n",
      "strong multicollinearity problems or that the design matrix is singular.\n"
     ]
    },
    {
     "name": "stderr",
     "output_type": "stream",
     "text": [
      "C:\\Users\\aleks\\anaconda3\\lib\\site-packages\\statsmodels\\tsa\\tsatools.py:142: FutureWarning: In a future version of pandas all arguments of concat except for the argument 'objs' will be keyword-only\n",
      "  x = pd.concat(x[::order], 1)\n"
     ]
    }
   ],
   "source": [
    "#delete entry_procedures_j variable, because of her statistical insignificance\n",
    "\n",
    "x_columns.remove(\"entry_procedures_j\")\n",
    "get_stats()"
   ]
  },
  {
   "cell_type": "code",
   "execution_count": 14,
   "metadata": {},
   "outputs": [
    {
     "name": "stdout",
     "output_type": "stream",
     "text": [
      "                            OLS Regression Results                            \n",
      "==============================================================================\n",
      "Dep. Variable:              ln_import   R-squared:                       0.850\n",
      "Model:                            OLS   Adj. R-squared:                  0.848\n",
      "Method:                 Least Squares   F-statistic:                     544.5\n",
      "Date:                Sun, 02 Jan 2022   Prob (F-statistic):               0.00\n",
      "Time:                        20:24:51   Log-Likelihood:                -2462.8\n",
      "No. Observations:                1845   AIC:                             4966.\n",
      "Df Residuals:                    1825   BIC:                             5076.\n",
      "Df Model:                          19                                         \n",
      "Covariance Type:            nonrobust                                         \n",
      "======================================================================================\n",
      "                         coef    std err          t      P>|t|      [0.025      0.975]\n",
      "--------------------------------------------------------------------------------------\n",
      "const                -22.5179      0.514    -43.774      0.000     -23.527     -21.509\n",
      "ln_distance           -1.0769      0.028    -38.291      0.000      -1.132      -1.022\n",
      "common_language        0.4987      0.085      5.852      0.000       0.332       0.666\n",
      "population_j        4.304e-07   1.11e-07      3.865      0.000    2.12e-07    6.49e-07\n",
      "ln_gdp_i               0.9059      0.016     56.203      0.000       0.874       0.937\n",
      "ln_gdp_j               0.9466      0.018     53.500      0.000       0.912       0.981\n",
      "gdp_percapita_i       -0.0142      0.001    -10.277      0.000      -0.017      -0.011\n",
      "gdp_percapita_j       -0.0095      0.001     -6.984      0.000      -0.012      -0.007\n",
      "gatt_i                 0.2300      0.079      2.924      0.004       0.076       0.384\n",
      "gatt_j                 0.2772      0.082      3.369      0.001       0.116       0.439\n",
      "wto_i                  0.6377      0.166      3.837      0.000       0.312       0.964\n",
      "wto_j                  1.1086      0.153      7.234      0.000       0.808       1.409\n",
      "eu_i                  -0.2766      0.060     -4.573      0.000      -0.395      -0.158\n",
      "rta                    0.3640      0.063      5.753      0.000       0.240       0.488\n",
      "entry_cost_i          -0.0129      0.005     -2.413      0.016      -0.023      -0.002\n",
      "entry_cost_j          -0.0317      0.006     -5.373      0.000      -0.043      -0.020\n",
      "entry_procedures_i    -0.0415      0.007     -5.858      0.000      -0.055      -0.028\n",
      "entry_time_i           0.0214      0.004      5.099      0.000       0.013       0.030\n",
      "entry_time_j           0.0049      0.002      2.807      0.005       0.001       0.008\n",
      "entry_tp_i            -0.0202      0.003     -6.571      0.000      -0.026      -0.014\n",
      "AD_measures_j         -0.0252      0.004     -6.060      0.000      -0.033      -0.017\n",
      "==============================================================================\n",
      "Omnibus:                      143.028   Durbin-Watson:                   1.698\n",
      "Prob(Omnibus):                  0.000   Jarque-Bera (JB):              459.702\n",
      "Skew:                          -0.361   Prob(JB):                    1.50e-100\n",
      "Kurtosis:                       5.337   Cond. No.                     2.09e+19\n",
      "==============================================================================\n",
      "\n",
      "Notes:\n",
      "[1] Standard Errors assume that the covariance matrix of the errors is correctly specified.\n",
      "[2] The smallest eigenvalue is 3.92e-25. This might indicate that there are\n",
      "strong multicollinearity problems or that the design matrix is singular.\n",
      "None\n"
     ]
    },
    {
     "name": "stderr",
     "output_type": "stream",
     "text": [
      "C:\\Users\\aleks\\anaconda3\\lib\\site-packages\\statsmodels\\tsa\\tsatools.py:142: FutureWarning: In a future version of pandas all arguments of concat except for the argument 'objs' will be keyword-only\n",
      "  x = pd.concat(x[::order], 1)\n"
     ]
    }
   ],
   "source": [
    "#delete AD_measures_i variable, because of her statistical insignificance\n",
    "\n",
    "x_columns.remove(\"AD_measures_i\")\n",
    "get_stats()"
   ]
  },
  {
   "cell_type": "code",
   "execution_count": null,
   "metadata": {},
   "outputs": [],
   "source": [
    "from stargazer.stargazer import Stargazer"
   ]
  },
  {
   "cell_type": "code",
   "execution_count": null,
   "metadata": {},
   "outputs": [
    {
     "name": "stdout",
     "output_type": "stream",
     "text": [
      "\n",
      "===================================================================================================================================================================\n",
      "                    ln_import I ln_import II ln_import III ln_import IIII ln_import IIIII ln_import IIIIII ln_import IIIIIII ln_import IIIIIIII ln_import IIIIIIIII\n",
      "-------------------------------------------------------------------------------------------------------------------------------------------------------------------\n",
      "AD_initations_i     0.01        0.01         0.01                                                                                                                  \n",
      "                    (0.00)      (0.00)       (0.00)                                                                                                                \n",
      "AD_initations_j     -0.01*      -0.01*       -0.01*        -0.01*         -0.01*                                                                                   \n",
      "                    (0.00)      (0.00)       (0.00)        (0.00)         (0.00)                                                                                   \n",
      "AD_measures_i       -0.02***    -0.02***     -0.02***      -0.01***       -0.01**         -0.01**          -0.01**           -0.01**                               \n",
      "                    (0.01)      (0.01)       (0.01)        (0.00)         (0.00)          (0.00)           (0.00)            (0.00)                                \n",
      "AD_measures_j       -0.02***    -0.02***     -0.02***      -0.02***       -0.02***        -0.03***         -0.03***          -0.03***           -0.03***           \n",
      "                    (0.01)      (0.01)       (0.01)        (0.01)         (0.01)          (0.00)           (0.00)            (0.00)             (0.00)             \n",
      "R-squared           0.85        0.85         0.85          0.85           0.85            0.85             0.85              0.85               0.85               \n",
      "R-squared Adj.      0.85        0.85         0.85          0.85           0.85            0.85             0.85              0.85               0.85               \n",
      "colonial_dependency 0.20        0.20                                                                                                                               \n",
      "                    (0.15)      (0.15)                                                                                                                             \n",
      "common_language     0.50***     0.50***      0.52***       0.52***        0.52***         0.53***          0.51***           0.50***            0.50***            \n",
      "                    (0.09)      (0.09)       (0.09)        (0.09)         (0.09)          (0.09)           (0.09)            (0.09)             (0.09)             \n",
      "const               -22.62***   -22.62***    -22.66***     -22.79***      -23.12***       -22.91***        -22.58***         -22.61***          -22.52***          \n",
      "                    (0.60)      (0.60)       (0.60)        (0.59)         (0.56)          (0.55)           (0.52)            (0.52)             (0.51)             \n",
      "entry_cost_i        -0.01**     -0.01**      -0.01**       -0.01**        -0.01**         -0.01**          -0.01**           -0.01**            -0.01**            \n",
      "                    (0.01)      (0.01)       (0.01)        (0.01)         (0.01)          (0.01)           (0.01)            (0.01)             (0.01)             \n",
      "entry_cost_j        -0.02***    -0.02***     -0.02***      -0.02***       -0.02***        -0.02***         -0.03***          -0.03***           -0.03***           \n",
      "                    (0.01)      (0.01)       (0.01)        (0.01)         (0.01)          (0.01)           (0.01)            (0.01)             (0.01)             \n",
      "entry_procedures_i  -0.05***    -0.05***     -0.05***      -0.05***       -0.04***        -0.04***         -0.04***          -0.04***           -0.04***           \n",
      "                    (0.01)      (0.01)       (0.01)        (0.01)         (0.01)          (0.01)           (0.01)            (0.01)             (0.01)             \n",
      "entry_procedures_j  -0.01*      -0.02*       -0.02*        -0.02*         -0.02*          -0.02*           -0.02                                                   \n",
      "                    (0.01)      (0.01)       (0.01)        (0.01)         (0.01)          (0.01)           (0.01)                                                  \n",
      "entry_time_i        0.03***     0.03***      0.03***       0.02***        0.02***         0.02***          0.02***           0.02***            0.02***            \n",
      "                    (0.00)      (0.00)       (0.00)        (0.00)         (0.00)          (0.00)           (0.00)            (0.00)             (0.00)             \n",
      "entry_time_j        0.01**      0.01***      0.01***       0.01***        0.01***         0.01***          0.01***           0.00***            0.00***            \n",
      "                    (0.00)      (0.00)       (0.00)        (0.00)         (0.00)          (0.00)           (0.00)            (0.00)             (0.00)             \n",
      "entry_tp_i          -0.02***    -0.02***     -0.02***      -0.02***       -0.02***        -0.02***         -0.02***          -0.02***           -0.02***           \n",
      "                    (0.00)      (0.00)       (0.00)        (0.00)         (0.00)          (0.00)           (0.00)            (0.00)             (0.00)             \n",
      "entry_tp_j          -0.00                                                                                                                                          \n",
      "                    (0.00)                                                                                                                                         \n",
      "eu_i                -0.22***    -0.22***     -0.22***      -0.20***       -0.22***        -0.22***         -0.25***          -0.25***           -0.28***           \n",
      "                    (0.07)      (0.07)       (0.07)        (0.06)         (0.06)          (0.06)           (0.06)            (0.06)             (0.06)             \n",
      "eu_j                0.13*       0.13*        0.13*         0.13*          0.14*           0.11                                                                     \n",
      "                    (0.07)      (0.07)       (0.07)        (0.07)         (0.07)          (0.07)                                                                   \n",
      "gatt_i              0.31***     0.31***      0.31***       0.30***        0.24***         0.24***          0.25***           0.25***            0.23***            \n",
      "                    (0.09)      (0.09)       (0.09)        (0.09)         (0.08)          (0.08)           (0.08)            (0.08)             (0.08)             \n",
      "gatt_j              0.23***     0.23***      0.24***       0.24***        0.23***         0.26***          0.28***           0.28***            0.28***            \n",
      "                    (0.08)      (0.08)       (0.08)        (0.08)         (0.08)          (0.08)           (0.08)            (0.08)             (0.08)             \n",
      "gdp_percapita_i     -0.01***    -0.01***     -0.01***      -0.01***       -0.01***        -0.01***         -0.01***          -0.01***           -0.01***           \n",
      "                    (0.00)      (0.00)       (0.00)        (0.00)         (0.00)          (0.00)           (0.00)            (0.00)             (0.00)             \n",
      "gdp_percapita_j     -0.01***    -0.01***     -0.01***      -0.01***       -0.01***        -0.01***         -0.01***          -0.01***           -0.01***           \n",
      "                    (0.00)      (0.00)       (0.00)        (0.00)         (0.00)          (0.00)           (0.00)            (0.00)             (0.00)             \n",
      "ln_distance         -1.06***    -1.06***     -1.07***      -1.07***       -1.06***        -1.07***         -1.08***          -1.08***           -1.08***           \n",
      "                    (0.03)      (0.03)       (0.03)        (0.03)         (0.03)          (0.03)           (0.03)            (0.03)             (0.03)             \n",
      "ln_gdp_i            0.89***     0.89***      0.89***       0.90***        0.91***         0.91***          0.91***           0.91***            0.91***            \n",
      "                    (0.02)      (0.02)       (0.02)        (0.02)         (0.02)          (0.02)           (0.02)            (0.02)             (0.02)             \n",
      "ln_gdp_j            0.97***     0.97***      0.97***       0.97***        0.97***         0.96***          0.95***           0.95***            0.95***            \n",
      "                    (0.02)      (0.02)       (0.02)        (0.02)         (0.02)          (0.02)           (0.02)            (0.02)             (0.02)             \n",
      "population_i        0.00*       0.00*        0.00*         0.00*                                                                                                   \n",
      "                    (0.00)      (0.00)       (0.00)        (0.00)                                                                                                  \n",
      "population_j        0.00***     0.00***      0.00***       0.00***        0.00***         0.00***          0.00***           0.00***            0.00***            \n",
      "                    (0.00)      (0.00)       (0.00)        (0.00)         (0.00)          (0.00)           (0.00)            (0.00)             (0.00)             \n",
      "rta                 0.33***     0.33***      0.33***       0.33***        0.33***         0.32***          0.35***           0.35***            0.36***            \n",
      "                    (0.07)      (0.07)       (0.07)        (0.07)         (0.07)          (0.07)           (0.06)            (0.06)             (0.06)             \n",
      "wto_i               0.65***     0.65***      0.65***       0.65***        0.66***         0.66***          0.67***           0.67***            0.64***            \n",
      "                    (0.17)      (0.17)       (0.17)        (0.17)         (0.17)          (0.17)           (0.17)            (0.17)             (0.17)             \n",
      "wto_j               1.04***     1.04***      1.04***       1.04***        1.04***         1.04***          1.11***           1.12***            1.11***            \n",
      "                    (0.16)      (0.16)       (0.16)        (0.16)         (0.16)          (0.16)           (0.15)            (0.15)             (0.15)             \n",
      "===================================================================================================================================================================\n",
      "Standard errors in parentheses.\n",
      "* p<.1, ** p<.05, ***p<.01\n"
     ]
    }
   ],
   "source": [
    "import statsmodels.api as sm\n",
    "from statsmodels.iolib.summary2 import summary_col\n",
    "\n",
    "print(summary_col(models,stars=True,float_format='%0.2f'))"
   ]
  },
  {
   "cell_type": "code",
   "execution_count": null,
   "metadata": {},
   "outputs": [
    {
     "data": {
      "text/html": [
       "<table style=\"text-align:center\"><tr><td colspan=\"10\" style=\"border-bottom: 1px solid black\"></td></tr><tr><td style=\"text-align:left\"></td><td colspan=\"9\"><em>Dependent variable:ln_import</em></td></tr><tr><td style=\"text-align:left\"></td><tr><td style=\"text-align:left\"></td><td>(1)</td><td>(2)</td><td>(3)</td><td>(4)</td><td>(5)</td><td>(6)</td><td>(7)</td><td>(8)</td><td>(9)</td></tr><tr><td colspan=\"10\" style=\"border-bottom: 1px solid black\"></td></tr><tr><td style=\"text-align:left\">AD_initations_i</td><td>0.007<sup></sup></td><td>0.007<sup></sup></td><td>0.007<sup></sup></td><td></td><td></td><td></td><td></td><td></td><td></td></tr><tr><td style=\"text-align:left\"></td><td>(0.005)</td><td>(0.005)</td><td>(0.005)</td><td></td><td></td><td></td><td></td><td></td><td></td></tr><tr><td style=\"text-align:left\">AD_initations_j</td><td>-0.009<sup>*</sup></td><td>-0.009<sup>*</sup></td><td>-0.008<sup>*</sup></td><td>-0.009<sup>*</sup></td><td>-0.009<sup>*</sup></td><td></td><td></td><td></td><td></td></tr><tr><td style=\"text-align:left\"></td><td>(0.005)</td><td>(0.005)</td><td>(0.005)</td><td>(0.005)</td><td>(0.005)</td><td></td><td></td><td></td><td></td></tr><tr><td style=\"text-align:left\">AD_measures_i</td><td>-0.017<sup>***</sup></td><td>-0.017<sup>***</sup></td><td>-0.017<sup>***</sup></td><td>-0.012<sup>***</sup></td><td>-0.008<sup>**</sup></td><td>-0.008<sup>**</sup></td><td>-0.008<sup>**</sup></td><td>-0.008<sup>**</sup></td><td></td></tr><tr><td style=\"text-align:left\"></td><td>(0.006)</td><td>(0.006)</td><td>(0.006)</td><td>(0.004)</td><td>(0.004)</td><td>(0.004)</td><td>(0.004)</td><td>(0.004)</td><td></td></tr><tr><td style=\"text-align:left\">AD_measures_j</td><td>-0.022<sup>***</sup></td><td>-0.022<sup>***</sup></td><td>-0.022<sup>***</sup></td><td>-0.022<sup>***</sup></td><td>-0.022<sup>***</sup></td><td>-0.029<sup>***</sup></td><td>-0.026<sup>***</sup></td><td>-0.025<sup>***</sup></td><td>-0.025<sup>***</sup></td></tr><tr><td style=\"text-align:left\"></td><td>(0.006)</td><td>(0.006)</td><td>(0.006)</td><td>(0.006)</td><td>(0.006)</td><td>(0.004)</td><td>(0.004)</td><td>(0.004)</td><td>(0.004)</td></tr><tr><td style=\"text-align:left\">colonial_dependency</td><td>0.198<sup></sup></td><td>0.198<sup></sup></td><td></td><td></td><td></td><td></td><td></td><td></td><td></td></tr><tr><td style=\"text-align:left\"></td><td>(0.147)</td><td>(0.147)</td><td></td><td></td><td></td><td></td><td></td><td></td><td></td></tr><tr><td style=\"text-align:left\">common_language</td><td>0.498<sup>***</sup></td><td>0.498<sup>***</sup></td><td>0.521<sup>***</sup></td><td>0.517<sup>***</sup></td><td>0.524<sup>***</sup></td><td>0.529<sup>***</sup></td><td>0.506<sup>***</sup></td><td>0.505<sup>***</sup></td><td>0.499<sup>***</sup></td></tr><tr><td style=\"text-align:left\"></td><td>(0.088)</td><td>(0.088)</td><td>(0.086)</td><td>(0.086)</td><td>(0.086)</td><td>(0.086)</td><td>(0.085)</td><td>(0.085)</td><td>(0.085)</td></tr><tr><td style=\"text-align:left\">const</td><td>-22.616<sup>***</sup></td><td>-22.616<sup>***</sup></td><td>-22.660<sup>***</sup></td><td>-22.787<sup>***</sup></td><td>-23.120<sup>***</sup></td><td>-22.914<sup>***</sup></td><td>-22.583<sup>***</sup></td><td>-22.610<sup>***</sup></td><td>-22.518<sup>***</sup></td></tr><tr><td style=\"text-align:left\"></td><td>(0.598)</td><td>(0.598)</td><td>(0.597)</td><td>(0.591)</td><td>(0.564)</td><td>(0.554)</td><td>(0.516)</td><td>(0.516)</td><td>(0.514)</td></tr><tr><td style=\"text-align:left\">entry_cost_i</td><td>-0.013<sup>**</sup></td><td>-0.013<sup>**</sup></td><td>-0.014<sup>**</sup></td><td>-0.013<sup>**</sup></td><td>-0.013<sup>**</sup></td><td>-0.013<sup>**</sup></td><td>-0.013<sup>**</sup></td><td>-0.013<sup>**</sup></td><td>-0.013<sup>**</sup></td></tr><tr><td style=\"text-align:left\"></td><td>(0.005)</td><td>(0.005)</td><td>(0.005)</td><td>(0.005)</td><td>(0.005)</td><td>(0.005)</td><td>(0.005)</td><td>(0.005)</td><td>(0.005)</td></tr><tr><td style=\"text-align:left\">entry_cost_j</td><td>-0.022<sup>***</sup></td><td>-0.022<sup>***</sup></td><td>-0.022<sup>***</sup></td><td>-0.022<sup>***</sup></td><td>-0.022<sup>***</sup></td><td>-0.024<sup>***</sup></td><td>-0.026<sup>***</sup></td><td>-0.032<sup>***</sup></td><td>-0.032<sup>***</sup></td></tr><tr><td style=\"text-align:left\"></td><td>(0.007)</td><td>(0.007)</td><td>(0.007)</td><td>(0.007)</td><td>(0.007)</td><td>(0.007)</td><td>(0.007)</td><td>(0.006)</td><td>(0.006)</td></tr><tr><td style=\"text-align:left\">entry_procedures_i</td><td>-0.048<sup>***</sup></td><td>-0.048<sup>***</sup></td><td>-0.047<sup>***</sup></td><td>-0.046<sup>***</sup></td><td>-0.042<sup>***</sup></td><td>-0.042<sup>***</sup></td><td>-0.042<sup>***</sup></td><td>-0.041<sup>***</sup></td><td>-0.042<sup>***</sup></td></tr><tr><td style=\"text-align:left\"></td><td>(0.008)</td><td>(0.008)</td><td>(0.008)</td><td>(0.007)</td><td>(0.007)</td><td>(0.007)</td><td>(0.007)</td><td>(0.007)</td><td>(0.007)</td></tr><tr><td style=\"text-align:left\">entry_procedures_j</td><td>-0.015<sup>*</sup></td><td>-0.019<sup>*</sup></td><td>-0.018<sup>*</sup></td><td>-0.018<sup>*</sup></td><td>-0.018<sup>*</sup></td><td>-0.018<sup>*</sup></td><td>-0.018<sup></sup></td><td></td><td></td></tr><tr><td style=\"text-align:left\"></td><td>(0.008)</td><td>(0.011)</td><td>(0.011)</td><td>(0.011)</td><td>(0.011)</td><td>(0.011)</td><td>(0.011)</td><td></td><td></td></tr><tr><td style=\"text-align:left\">entry_time_i</td><td>0.025<sup>***</sup></td><td>0.025<sup>***</sup></td><td>0.025<sup>***</sup></td><td>0.025<sup>***</sup></td><td>0.022<sup>***</sup></td><td>0.022<sup>***</sup></td><td>0.022<sup>***</sup></td><td>0.022<sup>***</sup></td><td>0.021<sup>***</sup></td></tr><tr><td style=\"text-align:left\"></td><td>(0.004)</td><td>(0.004)</td><td>(0.004)</td><td>(0.004)</td><td>(0.004)</td><td>(0.004)</td><td>(0.004)</td><td>(0.004)</td><td>(0.004)</td></tr><tr><td style=\"text-align:left\">entry_time_j</td><td>0.011<sup>**</sup></td><td>0.007<sup>***</sup></td><td>0.007<sup>***</sup></td><td>0.007<sup>***</sup></td><td>0.007<sup>***</sup></td><td>0.007<sup>***</sup></td><td>0.006<sup>***</sup></td><td>0.005<sup>***</sup></td><td>0.005<sup>***</sup></td></tr><tr><td style=\"text-align:left\"></td><td>(0.004)</td><td>(0.002)</td><td>(0.002)</td><td>(0.002)</td><td>(0.002)</td><td>(0.002)</td><td>(0.002)</td><td>(0.002)</td><td>(0.002)</td></tr><tr><td style=\"text-align:left\">entry_tp_i</td><td>-0.022<sup>***</sup></td><td>-0.022<sup>***</sup></td><td>-0.022<sup>***</sup></td><td>-0.022<sup>***</sup></td><td>-0.020<sup>***</sup></td><td>-0.020<sup>***</sup></td><td>-0.020<sup>***</sup></td><td>-0.019<sup>***</sup></td><td>-0.020<sup>***</sup></td></tr><tr><td style=\"text-align:left\"></td><td>(0.003)</td><td>(0.003)</td><td>(0.003)</td><td>(0.003)</td><td>(0.003)</td><td>(0.003)</td><td>(0.003)</td><td>(0.003)</td><td>(0.003)</td></tr><tr><td style=\"text-align:left\">entry_tp_j</td><td>-0.004<sup></sup></td><td></td><td></td><td></td><td></td><td></td><td></td><td></td><td></td></tr><tr><td style=\"text-align:left\"></td><td>(0.003)</td><td></td><td></td><td></td><td></td><td></td><td></td><td></td><td></td></tr><tr><td style=\"text-align:left\">eu_i</td><td>-0.224<sup>***</sup></td><td>-0.224<sup>***</sup></td><td>-0.221<sup>***</sup></td><td>-0.204<sup>***</sup></td><td>-0.219<sup>***</sup></td><td>-0.219<sup>***</sup></td><td>-0.248<sup>***</sup></td><td>-0.248<sup>***</sup></td><td>-0.277<sup>***</sup></td></tr><tr><td style=\"text-align:left\"></td><td>(0.066)</td><td>(0.066)</td><td>(0.066)</td><td>(0.065)</td><td>(0.064)</td><td>(0.064)</td><td>(0.062)</td><td>(0.062)</td><td>(0.060)</td></tr><tr><td style=\"text-align:left\">eu_j</td><td>0.130<sup>*</sup></td><td>0.130<sup>*</sup></td><td>0.134<sup>*</sup></td><td>0.134<sup>*</sup></td><td>0.137<sup>*</sup></td><td>0.114<sup></sup></td><td></td><td></td><td></td></tr><tr><td style=\"text-align:left\"></td><td>(0.070)</td><td>(0.070)</td><td>(0.070)</td><td>(0.070)</td><td>(0.070)</td><td>(0.069)</td><td></td><td></td><td></td></tr><tr><td style=\"text-align:left\">gatt_i</td><td>0.312<sup>***</sup></td><td>0.312<sup>***</sup></td><td>0.314<sup>***</sup></td><td>0.298<sup>***</sup></td><td>0.238<sup>***</sup></td><td>0.238<sup>***</sup></td><td>0.247<sup>***</sup></td><td>0.247<sup>***</sup></td><td>0.230<sup>***</sup></td></tr><tr><td style=\"text-align:left\"></td><td>(0.086)</td><td>(0.086)</td><td>(0.086)</td><td>(0.085)</td><td>(0.079)</td><td>(0.079)</td><td>(0.079)</td><td>(0.079)</td><td>(0.079)</td></tr><tr><td style=\"text-align:left\">gatt_j</td><td>0.235<sup>***</sup></td><td>0.235<sup>***</sup></td><td>0.236<sup>***</sup></td><td>0.236<sup>***</sup></td><td>0.232<sup>***</sup></td><td>0.258<sup>***</sup></td><td>0.279<sup>***</sup></td><td>0.280<sup>***</sup></td><td>0.277<sup>***</sup></td></tr><tr><td style=\"text-align:left\"></td><td>(0.084)</td><td>(0.084)</td><td>(0.084)</td><td>(0.084)</td><td>(0.084)</td><td>(0.083)</td><td>(0.082)</td><td>(0.082)</td><td>(0.082)</td></tr><tr><td style=\"text-align:left\">gdp_percapita_i</td><td>-0.014<sup>***</sup></td><td>-0.014<sup>***</sup></td><td>-0.014<sup>***</sup></td><td>-0.014<sup>***</sup></td><td>-0.014<sup>***</sup></td><td>-0.014<sup>***</sup></td><td>-0.014<sup>***</sup></td><td>-0.014<sup>***</sup></td><td>-0.014<sup>***</sup></td></tr><tr><td style=\"text-align:left\"></td><td>(0.001)</td><td>(0.001)</td><td>(0.001)</td><td>(0.001)</td><td>(0.001)</td><td>(0.001)</td><td>(0.001)</td><td>(0.001)</td><td>(0.001)</td></tr><tr><td style=\"text-align:left\">gdp_percapita_j</td><td>-0.009<sup>***</sup></td><td>-0.009<sup>***</sup></td><td>-0.009<sup>***</sup></td><td>-0.009<sup>***</sup></td><td>-0.009<sup>***</sup></td><td>-0.010<sup>***</sup></td><td>-0.010<sup>***</sup></td><td>-0.010<sup>***</sup></td><td>-0.010<sup>***</sup></td></tr><tr><td style=\"text-align:left\"></td><td>(0.001)</td><td>(0.001)</td><td>(0.001)</td><td>(0.001)</td><td>(0.001)</td><td>(0.001)</td><td>(0.001)</td><td>(0.001)</td><td>(0.001)</td></tr><tr><td style=\"text-align:left\">ln_distance</td><td>-1.064<sup>***</sup></td><td>-1.064<sup>***</sup></td><td>-1.067<sup>***</sup></td><td>-1.067<sup>***</sup></td><td>-1.064<sup>***</sup></td><td>-1.065<sup>***</sup></td><td>-1.080<sup>***</sup></td><td>-1.080<sup>***</sup></td><td>-1.077<sup>***</sup></td></tr><tr><td style=\"text-align:left\"></td><td>(0.029)</td><td>(0.029)</td><td>(0.029)</td><td>(0.029)</td><td>(0.029)</td><td>(0.029)</td><td>(0.028)</td><td>(0.028)</td><td>(0.028)</td></tr><tr><td style=\"text-align:left\">ln_gdp_i</td><td>0.889<sup>***</sup></td><td>0.889<sup>***</sup></td><td>0.890<sup>***</sup></td><td>0.897<sup>***</sup></td><td>0.912<sup>***</sup></td><td>0.912<sup>***</sup></td><td>0.912<sup>***</sup></td><td>0.912<sup>***</sup></td><td>0.906<sup>***</sup></td></tr><tr><td style=\"text-align:left\"></td><td>(0.019)</td><td>(0.019)</td><td>(0.019)</td><td>(0.018)</td><td>(0.016)</td><td>(0.016)</td><td>(0.016)</td><td>(0.016)</td><td>(0.016)</td></tr><tr><td style=\"text-align:left\">ln_gdp_j</td><td>0.969<sup>***</sup></td><td>0.969<sup>***</sup></td><td>0.971<sup>***</sup></td><td>0.971<sup>***</sup></td><td>0.972<sup>***</sup></td><td>0.961<sup>***</sup></td><td>0.949<sup>***</sup></td><td>0.946<sup>***</sup></td><td>0.947<sup>***</sup></td></tr><tr><td style=\"text-align:left\"></td><td>(0.020)</td><td>(0.020)</td><td>(0.020)</td><td>(0.020)</td><td>(0.020)</td><td>(0.019)</td><td>(0.018)</td><td>(0.018)</td><td>(0.018)</td></tr><tr><td style=\"text-align:left\">population_i</td><td>0.000<sup>*</sup></td><td>0.000<sup>*</sup></td><td>0.000<sup>*</sup></td><td>0.000<sup>*</sup></td><td></td><td></td><td></td><td></td><td></td></tr><tr><td style=\"text-align:left\"></td><td>(0.000)</td><td>(0.000)</td><td>(0.000)</td><td>(0.000)</td><td></td><td></td><td></td><td></td><td></td></tr><tr><td style=\"text-align:left\">population_j</td><td>0.000<sup>***</sup></td><td>0.000<sup>***</sup></td><td>0.000<sup>***</sup></td><td>0.000<sup>***</sup></td><td>0.000<sup>***</sup></td><td>0.000<sup>***</sup></td><td>0.000<sup>***</sup></td><td>0.000<sup>***</sup></td><td>0.000<sup>***</sup></td></tr><tr><td style=\"text-align:left\"></td><td>(0.000)</td><td>(0.000)</td><td>(0.000)</td><td>(0.000)</td><td>(0.000)</td><td>(0.000)</td><td>(0.000)</td><td>(0.000)</td><td>(0.000)</td></tr><tr><td style=\"text-align:left\">rta</td><td>0.330<sup>***</sup></td><td>0.330<sup>***</sup></td><td>0.327<sup>***</sup></td><td>0.326<sup>***</sup></td><td>0.327<sup>***</sup></td><td>0.325<sup>***</sup></td><td>0.349<sup>***</sup></td><td>0.350<sup>***</sup></td><td>0.364<sup>***</sup></td></tr><tr><td style=\"text-align:left\"></td><td>(0.065)</td><td>(0.065)</td><td>(0.065)</td><td>(0.065)</td><td>(0.065)</td><td>(0.065)</td><td>(0.064)</td><td>(0.064)</td><td>(0.063)</td></tr><tr><td style=\"text-align:left\">wto_i</td><td>0.648<sup>***</sup></td><td>0.648<sup>***</sup></td><td>0.650<sup>***</sup></td><td>0.651<sup>***</sup></td><td>0.662<sup>***</sup></td><td>0.664<sup>***</sup></td><td>0.673<sup>***</sup></td><td>0.673<sup>***</sup></td><td>0.638<sup>***</sup></td></tr><tr><td style=\"text-align:left\"></td><td>(0.167)</td><td>(0.167)</td><td>(0.167)</td><td>(0.167)</td><td>(0.167)</td><td>(0.167)</td><td>(0.167)</td><td>(0.167)</td><td>(0.166)</td></tr><tr><td style=\"text-align:left\">wto_j</td><td>1.039<sup>***</sup></td><td>1.039<sup>***</sup></td><td>1.040<sup>***</sup></td><td>1.041<sup>***</sup></td><td>1.038<sup>***</sup></td><td>1.042<sup>***</sup></td><td>1.109<sup>***</sup></td><td>1.117<sup>***</sup></td><td>1.109<sup>***</sup></td></tr><tr><td style=\"text-align:left\"></td><td>(0.158)</td><td>(0.158)</td><td>(0.158)</td><td>(0.158)</td><td>(0.158)</td><td>(0.159)</td><td>(0.153)</td><td>(0.153)</td><td>(0.153)</td></tr><td colspan=\"10\" style=\"border-bottom: 1px solid black\"></td></tr><tr><td style=\"text-align: left\">Observations</td><td>1,845</td><td>1,845</td><td>1,845</td><td>1,845</td><td>1,845</td><td>1,845</td><td>1,845</td><td>1,845</td><td>1,845</td></tr><tr><td style=\"text-align: left\">R<sup>2</sup></td><td>0.852</td><td>0.852</td><td>0.852</td><td>0.851</td><td>0.851</td><td>0.851</td><td>0.851</td><td>0.850</td><td>0.850</td></tr><tr><td style=\"text-align: left\">Adjusted R<sup>2</sup></td><td>0.850</td><td>0.850</td><td>0.850</td><td>0.849</td><td>0.849</td><td>0.849</td><td>0.849</td><td>0.849</td><td>0.848</td></tr><tr><td style=\"text-align: left\">Residual Std. Error</td><td>0.921 (df=1818)</td><td>0.921 (df=1818)</td><td>0.921 (df=1819)</td><td>0.922 (df=1820)</td><td>0.922 (df=1821)</td><td>0.923 (df=1822)</td><td>0.923 (df=1823)</td><td>0.924 (df=1824)</td><td>0.924 (df=1825)</td></tr><tr><td style=\"text-align: left\">F Statistic</td><td>401.625<sup>***</sup> (df=26; 1818)</td><td>401.625<sup>***</sup> (df=26; 1818)</td><td>417.426<sup>***</sup> (df=25; 1819)</td><td>434.434<sup>***</sup> (df=24; 1820)</td><td>452.548<sup>***</sup> (df=23; 1821)</td><td>472.281<sup>***</sup> (df=22; 1822)</td><td>494.180<sup>***</sup> (df=21; 1823)</td><td>518.314<sup>***</sup> (df=20; 1824)</td><td>544.541<sup>***</sup> (df=19; 1825)</td></tr><tr><td colspan=\"10\" style=\"border-bottom: 1px solid black\"></td></tr><tr><td style=\"text-align: left\">Note:</td>\n",
       " <td colspan=\"9\" style=\"text-align: right\">\n",
       "  <sup>*</sup>p&lt;0.1;\n",
       "  <sup>**</sup>p&lt;0.05;\n",
       "  <sup>***</sup>p&lt;0.01\n",
       " </td></tr></table>"
      ],
      "text/plain": [
       "<stargazer.stargazer.Stargazer at 0x18940b92b80>"
      ]
     },
     "execution_count": 66,
     "metadata": {},
     "output_type": "execute_result"
    }
   ],
   "source": [
    "stargazer = Stargazer(models)\n",
    "stargazer"
   ]
  },
  {
   "cell_type": "code",
   "execution_count": null,
   "metadata": {},
   "outputs": [
    {
     "ename": "AttributeError",
     "evalue": "'Stargazer' object has no attribute 'as_text'",
     "output_type": "error",
     "traceback": [
      "\u001b[1;31m---------------------------------------------------------------------------\u001b[0m",
      "\u001b[1;31mAttributeError\u001b[0m                            Traceback (most recent call last)",
      "\u001b[1;32m<ipython-input-67-099be6675b5a>\u001b[0m in \u001b[0;36m<module>\u001b[1;34m\u001b[0m\n\u001b[0;32m      2\u001b[0m \u001b[1;33m\u001b[0m\u001b[0m\n\u001b[0;32m      3\u001b[0m \u001b[1;32mwith\u001b[0m \u001b[0mopen\u001b[0m\u001b[1;33m(\u001b[0m\u001b[1;34m'summary.txt'\u001b[0m\u001b[1;33m,\u001b[0m \u001b[1;34m'w'\u001b[0m\u001b[1;33m)\u001b[0m \u001b[1;32mas\u001b[0m \u001b[0mfh\u001b[0m\u001b[1;33m:\u001b[0m\u001b[1;33m\u001b[0m\u001b[1;33m\u001b[0m\u001b[0m\n\u001b[1;32m----> 4\u001b[1;33m     \u001b[0mfh\u001b[0m\u001b[1;33m.\u001b[0m\u001b[0mwrite\u001b[0m\u001b[1;33m(\u001b[0m\u001b[0mstargazer\u001b[0m\u001b[1;33m.\u001b[0m\u001b[0mas_text\u001b[0m\u001b[1;33m(\u001b[0m\u001b[1;33m)\u001b[0m\u001b[1;33m)\u001b[0m\u001b[1;33m\u001b[0m\u001b[1;33m\u001b[0m\u001b[0m\n\u001b[0m",
      "\u001b[1;31mAttributeError\u001b[0m: 'Stargazer' object has no attribute 'as_text'"
     ]
    }
   ],
   "source": [
    "import statsmodels.formula.api as smf\n",
    "\n",
    "with open('summary.txt', 'w') as fh:\n",
    "    fh.write(stargazer.as_text())"
   ]
  },
  {
   "cell_type": "code",
   "execution_count": null,
   "metadata": {},
   "outputs": [],
   "source": [
    "#wywalam zmienną entry_tp_j, bo jest nieistotna statystycznie (p-value > 0.05)\n",
    "\n",
    "y2 = df1['ln_import'] # dependent variable\n",
    "X2 = df1[['ln_distance', 'common_language', 'colonial_dependency', 'population_i', 'population_j', 'ln_gdp_i', 'ln_gdp_j', 'gdp_percapita_i', \"gdp_percapita_j\", \"gatt_i\", 'gatt_j', 'wto_i', \"wto_j\", \"eu_i\", \"eu_j\", \"rta\", \"entry_cost_i\", \"entry_cost_j\", \"entry_procedures_i\", \"entry_procedures_j\", \"entry_time_i\", \"entry_time_j\", \"entry_tp_i\", \"AD_initations_i\", \"AD_measures_i\", \"AD_initations_j\", \"AD_measures_j\"]] # independent variable\n",
    "X2 = sm.add_constant(X2) # adding a constant\n",
    "lm2 = sm.OLS(y2, X2).fit() # fitting the model\n",
    "lm2.summary()"
   ]
  },
  {
   "cell_type": "code",
   "execution_count": null,
   "metadata": {},
   "outputs": [],
   "source": [
    "#wywalam zmienną colonial_dependency, bo jest nieistotna statystycznie (p-value > 0.05)\n",
    "\n",
    "y3 = df1['ln_import'] # dependent variable\n",
    "X3 = df1[['ln_distance', 'common_language', 'population_i', 'population_j', 'ln_gdp_i', 'ln_gdp_j', 'gdp_percapita_i', \"gdp_percapita_j\", \"gatt_i\", 'gatt_j', 'wto_i', \"wto_j\", \"eu_i\", \"eu_j\", \"rta\", \"entry_cost_i\", \"entry_cost_j\", \"entry_procedures_i\", \"entry_procedures_j\", \"entry_time_i\", \"entry_time_j\", \"entry_tp_i\", \"AD_initations_i\", \"AD_measures_i\", \"AD_initations_j\", \"AD_measures_j\"]] # independent variable\n",
    "X3 = sm.add_constant(X3) # adding a constant\n",
    "lm3 = sm.OLS(y3, X3).fit() # fitting the model\n",
    "lm3.summary()"
   ]
  },
  {
   "cell_type": "code",
   "execution_count": null,
   "metadata": {},
   "outputs": [],
   "source": [
    "stargazer.render_latex()"
   ]
  }
 ],
 "metadata": {
  "interpreter": {
   "hash": "0e757f7040d5f1d6712a46b21044265f2526fd475a5cc33c64d965ad27c2adb1"
  },
  "kernelspec": {
   "display_name": "Python 3.10.0 64-bit",
   "language": "python",
   "name": "python3"
  },
  "language_info": {
   "codemirror_mode": {
    "name": "ipython",
    "version": 3
   },
   "file_extension": ".py",
   "mimetype": "text/x-python",
   "name": "python",
   "nbconvert_exporter": "python",
   "pygments_lexer": "ipython3",
   "version": "3.9.7"
  },
  "orig_nbformat": 4
 },
 "nbformat": 4,
 "nbformat_minor": 2
}
